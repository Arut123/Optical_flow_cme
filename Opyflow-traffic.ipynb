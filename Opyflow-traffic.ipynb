{
 "cells": [
  {
   "cell_type": "code",
   "execution_count": null,
   "id": "3496fcfd",
   "metadata": {},
   "outputs": [],
   "source": [
    "import opyf"
   ]
  },
  {
   "cell_type": "code",
   "execution_count": null,
   "id": "66e7dcf1",
   "metadata": {
    "scrolled": true
   },
   "outputs": [],
   "source": [
    "file=r'slow_traffic_small.mp4'\n",
    "video=opyf.videoAnalyzer(file)\n",
    "video.set_vlim([0, 10])\n",
    "video.set_vecTime(Ntot=50,shift=2,step=1)\n",
    "video.set_goodFeaturesToTrackParams(qualityLevel=0.5)\n",
    "video.extractGoodFeaturesDisplacementsAccumulateAndInterpolate(display1='quiver',display2='field',displayColor=True)\n",
    "video.set_filtersParams(maxDevInRadius=1.0, RadiusF=0.20,range_Vx=[0.5,10])\n",
    "video.filterAndInterpolate()\n"
   ]
  }
 ],
 "metadata": {
  "kernelspec": {
   "display_name": "Python 3 (ipykernel)",
   "language": "python",
   "name": "python3"
  },
  "language_info": {
   "codemirror_mode": {
    "name": "ipython",
    "version": 3
   },
   "file_extension": ".py",
   "mimetype": "text/x-python",
   "name": "python",
   "nbconvert_exporter": "python",
   "pygments_lexer": "ipython3",
   "version": "3.9.12"
  }
 },
 "nbformat": 4,
 "nbformat_minor": 5
}
